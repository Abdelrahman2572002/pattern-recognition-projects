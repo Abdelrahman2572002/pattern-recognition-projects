{
 "cells": [
  {
   "cell_type": "code",
   "execution_count": 406,
   "metadata": {},
   "outputs": [],
   "source": [
    "import numpy as np\n",
    "from sklearn.datasets import load_iris\n",
    "from sklearn.model_selection import train_test_split"
   ]
  },
  {
   "cell_type": "code",
   "execution_count": 407,
   "metadata": {},
   "outputs": [],
   "source": [
    "iris = load_iris()\n",
    "X = iris.data\n",
    "y = iris.target"
   ]
  },
  {
   "cell_type": "code",
   "execution_count": 408,
   "metadata": {},
   "outputs": [],
   "source": [
    "y[np.where(y == 2)] = 1\n",
    "X_class_1 = X[np.where(y == 0)]\n",
    "y_class_1 = y[np.where(y == 0)]\n",
    "X_class_1_train, X_class_1_test, y_class_1_train, y_class_1_test = train_test_split(X_class_1, y_class_1, test_size=0.2, random_state=42)"
   ]
  },
  {
   "cell_type": "code",
   "execution_count": 409,
   "metadata": {},
   "outputs": [],
   "source": [
    "X_class_2 = X[np.where(y == 1)]\n",
    "y_class_2 = y[np.where(y == 1)]\n",
    "X_class_2_train, X_class_2_test, y_class_2_train, y_class_2_test = train_test_split(X_class_2, y_class_2, test_size=0.2, random_state=42)"
   ]
  },
  {
   "cell_type": "code",
   "execution_count": 410,
   "metadata": {},
   "outputs": [],
   "source": [
    "class MSSE:\n",
    "    def __init__(self):\n",
    "        self.W = None\n",
    "\n",
    "    def fit(self, X, y):\n",
    "        X = np.hstack((X, np.ones((X.shape[0], 1))))\n",
    "        self.W = np.linalg.inv(X.T @ X) @ X.T @ y\n",
    "\n",
    "    def predict(self, X):\n",
    "        X = np.hstack((X, np.ones((X.shape[0], 1))))  \n",
    "        y_pred = X @ self.W\n",
    "        return np.where(y_pred > 0, 1, -1)  \n",
    "    \n",
    "    def accuracy(self, y_pred, y_true):\n",
    "        return np.mean(y_pred == y_true)"
   ]
  },
  {
   "cell_type": "code",
   "execution_count": 411,
   "metadata": {},
   "outputs": [],
   "source": [
    "model = MSSE()\n",
    "model.fit(np.vstack((X_class_1_train, X_class_2_train)), np.hstack((y_class_1_train, y_class_2_train)))"
   ]
  },
  {
   "cell_type": "code",
   "execution_count": 412,
   "metadata": {},
   "outputs": [],
   "source": [
    "X_test = np.vstack((X_class_1_test, X_class_2_test))\n",
    "y_test = np.hstack((y_class_1_test, y_class_2_test))\n",
    "y_pred = model.predict(X_test)"
   ]
  },
  {
   "cell_type": "code",
   "execution_count": 413,
   "metadata": {},
   "outputs": [
    {
     "name": "stdout",
     "output_type": "stream",
     "text": [
      "Accuracy: 0.6666666666666666\n"
     ]
    }
   ],
   "source": [
    "accuracy = model.accuracy(y_pred, y_test)\n",
    "print(\"Accuracy:\", accuracy)"
   ]
  },
  {
   "cell_type": "code",
   "execution_count": 414,
   "metadata": {},
   "outputs": [
    {
     "data": {
      "text/plain": [
       "array([0, 0, 0, 0, 0, 0, 0, 0, 0, 0, 1, 1, 1, 1, 1, 1, 1, 1, 1, 1, 1, 1,\n",
       "       1, 1, 1, 1, 1, 1, 1, 1])"
      ]
     },
     "execution_count": 414,
     "metadata": {},
     "output_type": "execute_result"
    }
   ],
   "source": [
    "y_test"
   ]
  },
  {
   "cell_type": "code",
   "execution_count": 415,
   "metadata": {},
   "outputs": [
    {
     "name": "stdout",
     "output_type": "stream",
     "text": [
      "Percentage of samples classified as Class I: 90.0\n",
      "Percentage of samples classified as Class II: 10.0\n"
     ]
    }
   ],
   "source": [
    "test_predictions = model.predict(X_test)\n",
    "class_labels = np.where(test_predictions == 1, \"Class I\", \"Class II\")\n",
    "percentage_class_I = np.mean(test_predictions == 1) * 100\n",
    "percentage_class_II = 100 - percentage_class_I\n",
    "print(\"Percentage of samples classified as Class I:\", percentage_class_I)\n",
    "print(\"Percentage of samples classified as Class II:\", percentage_class_II)"
   ]
  },
  {
   "cell_type": "code",
   "execution_count": 416,
   "metadata": {},
   "outputs": [],
   "source": [
    "iris = load_iris()\n",
    "X = iris.data\n",
    "y = iris.target"
   ]
  },
  {
   "cell_type": "code",
   "execution_count": 417,
   "metadata": {},
   "outputs": [],
   "source": [
    "y_class_2_vs_all = np.where(y == 2, 1, -1)\n",
    "y_class_3_vs_all = np.where(y == 3, 1, -1)"
   ]
  },
  {
   "cell_type": "code",
   "execution_count": 418,
   "metadata": {},
   "outputs": [],
   "source": [
    "X_train, X_test, y_train_2_vs_all, y_test_2_vs_all = train_test_split(X, y_class_2_vs_all, test_size=0.2, random_state=42)\n",
    "_, _, y_train_3_vs_all, y_test_3_vs_all = train_test_split(X, y_class_3_vs_all, test_size=0.2, random_state=42)"
   ]
  },
  {
   "cell_type": "code",
   "execution_count": 419,
   "metadata": {},
   "outputs": [
    {
     "name": "stdout",
     "output_type": "stream",
     "text": [
      "Accuracy for class 2 vs all: 96.66666666666667 %\n"
     ]
    }
   ],
   "source": [
    "model_2_vs_all = MSSE()\n",
    "model_2_vs_all.fit(X_train, y_train_2_vs_all)\n",
    "y_pred_2_vs_all = model_2_vs_all.predict(X_test)\n",
    "accuracy_2_vs_all = model_2_vs_all.accuracy(y_pred_2_vs_all, y_test_2_vs_all)\n",
    "print(\"Accuracy for class 2 vs all:\", accuracy_2_vs_all*100, \"%\")"
   ]
  },
  {
   "cell_type": "code",
   "execution_count": 420,
   "metadata": {},
   "outputs": [
    {
     "name": "stdout",
     "output_type": "stream",
     "text": [
      "Accuracy for class 3 vs all: 100.0 %\n"
     ]
    }
   ],
   "source": [
    "model_3_vs_all = MSSE()\n",
    "model_3_vs_all.fit(X_train, y_train_3_vs_all)\n",
    "y_pred_3_vs_all = model_3_vs_all.predict(X_test)\n",
    "accuracy_3_vs_all = model_3_vs_all.accuracy(y_pred_3_vs_all, y_test_3_vs_all)\n",
    "print(\"Accuracy for class 3 vs all:\", accuracy_3_vs_all*100, \"%\")"
   ]
  },
  {
   "cell_type": "code",
   "execution_count": null,
   "metadata": {},
   "outputs": [],
   "source": []
  }
 ],
 "metadata": {
  "kaggle": {
   "accelerator": "none",
   "dataSources": [],
   "dockerImageVersionId": 30698,
   "isGpuEnabled": false,
   "isInternetEnabled": true,
   "language": "python",
   "sourceType": "notebook"
  },
  "kernelspec": {
   "display_name": "Python 3 (ipykernel)",
   "language": "python",
   "name": "python3"
  },
  "language_info": {
   "codemirror_mode": {
    "name": "ipython",
    "version": 3
   },
   "file_extension": ".py",
   "mimetype": "text/x-python",
   "name": "python",
   "nbconvert_exporter": "python",
   "pygments_lexer": "ipython3",
   "version": "3.9.13"
  }
 },
 "nbformat": 4,
 "nbformat_minor": 4
}
