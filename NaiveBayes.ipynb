{
  "cells": [
    {
      "cell_type": "code",
      "execution_count": 1,
      "id": "3a2c259f",
      "metadata": {
        "id": "3a2c259f"
      },
      "outputs": [],
      "source": [
        "import numpy as np\n",
        "from sklearn.datasets import load_iris\n",
        "from sklearn.model_selection import train_test_split\n",
        "from sklearn.metrics import accuracy_score"
      ]
    },
    {
      "cell_type": "code",
      "execution_count": 2,
      "id": "264cd29c",
      "metadata": {
        "id": "264cd29c"
      },
      "outputs": [],
      "source": [
        "class GaussianNaiveBayes:\n",
        "\n",
        "    def __init__(self):\n",
        "        self.mean = {}\n",
        "        self.var = {}\n",
        "        self.prior = {}\n",
        "        self.posterior = {}\n",
        "\n",
        "    def fit(self, X, y):\n",
        "        self.classes = np.unique(y)\n",
        "        n_samples = X.shape[0]\n",
        "\n",
        "        for c in self.classes:\n",
        "            X_c = X[y == c]\n",
        "            self.mean[c] = X_c.mean(axis=0)\n",
        "            self.var[c] =  X_c.var(axis=0)\n",
        "            # frequency of each class\n",
        "            self.prior[c] = len(X_c) / n_samples\n",
        "\n",
        "    def calculate_likelihood(self, x, mean, var):\n",
        "        exponent = np.exp(-((x - mean) ** 2) / (2 * var))\n",
        "        return np.sum(np.log((exponent / np.sqrt(2 * np.pi * var))))\n",
        "\n",
        "    def predict(self, X):\n",
        "        predictions = []\n",
        "        for x in X:\n",
        "            for c in self.classes:\n",
        "                likelihood = self.calculate_likelihood(x, self.mean[c], self.var[c])\n",
        "                self.posterior[c] = likelihood * self.prior[c]\n",
        "            predictions.append(max(self.posterior, key=self.posterior.get))\n",
        "        return predictions"
      ]
    },
    {
      "cell_type": "code",
      "execution_count": 3,
      "id": "758edece",
      "metadata": {
        "id": "758edece"
      },
      "outputs": [],
      "source": [
        "# Load iris dataset\n",
        "iris = load_iris()\n",
        "X = iris.data\n",
        "y = iris.target\n",
        "\n",
        "X_train, X_test, y_train, y_test = train_test_split(X, y, test_size=0.2, random_state=42)"
      ]
    },
    {
      "cell_type": "code",
      "execution_count": 4,
      "id": "63cf2db2",
      "metadata": {
        "id": "63cf2db2"
      },
      "outputs": [],
      "source": [
        "model = GaussianNaiveBayes()\n",
        "model.fit(X_train, y_train)"
      ]
    },
    {
      "cell_type": "code",
      "execution_count": 5,
      "id": "ff8a2192",
      "metadata": {
        "colab": {
          "base_uri": "https://localhost:8080/"
        },
        "id": "ff8a2192",
        "outputId": "a5f4db8f-f0c0-425d-ee93-f66222b07c40"
      },
      "outputs": [
        {
          "output_type": "stream",
          "name": "stdout",
          "text": [
            "Accuracy: 100.0%\n"
          ]
        }
      ],
      "source": [
        "y_pred = model.predict(X_test)\n",
        "accuracy = accuracy_score(y_test, y_pred)\n",
        "\n",
        "print(f\"Accuracy: {accuracy*100:0.1f}%\")"
      ]
    },
    {
      "cell_type": "code",
      "execution_count": 6,
      "id": "4e3de471",
      "metadata": {
        "id": "4e3de471"
      },
      "outputs": [],
      "source": [
        "from sklearn.metrics import confusion_matrix\n",
        "cm= confusion_matrix(y_test,y_pred,labels=list(np.arange(0,3)))"
      ]
    },
    {
      "cell_type": "code",
      "execution_count": 9,
      "id": "7258b1a5",
      "metadata": {
        "colab": {
          "base_uri": "https://localhost:8080/",
          "height": 807
        },
        "id": "7258b1a5",
        "outputId": "a92a0a08-f15f-4a06-fdba-b0cba2777ebf"
      },
      "outputs": [
        {
          "output_type": "display_data",
          "data": {
            "text/plain": [
              "<Figure size 1000x800 with 2 Axes>"
            ],
            "image/png": "[encoded data removed]"
          },
          "metadata": {}
        }
      ],
      "source": [
        "import seaborn as sns\n",
        "import matplotlib.pyplot as plt\n",
        "fig, ax = plt.subplots(figsize=(10,8))\n",
        "\n",
        "sns.heatmap(cm, annot=True,ax=ax,fmt=\"d\",linewidths=.5,cmap=sns.color_palette(\"Blues\"))\n",
        "ax.set(title='Chain', xlabel='Predicted label', ylabel='True label')\n",
        "plt.tight_layout()\n",
        "plt.show()"
      ]
    },
    {
      "cell_type": "code",
      "execution_count": 7,
      "id": "83abee34",
      "metadata": {
        "id": "83abee34"
      },
      "outputs": [],
      "source": []
    }
  ],
  "metadata": {
    "kernelspec": {
      "display_name": "Python 3 (ipykernel)",
      "language": "python",
      "name": "python3"
    },
    "language_info": {
      "codemirror_mode": {
        "name": "ipython",
        "version": 3
      },
      "file_extension": ".py",
      "mimetype": "text/x-python",
      "name": "python",
      "nbconvert_exporter": "python",
      "pygments_lexer": "ipython3",
      "version": "3.9.12"
    },
    "colab": {
      "provenance": []
    }
  },
  "nbformat": 4,
  "nbformat_minor": 5
}