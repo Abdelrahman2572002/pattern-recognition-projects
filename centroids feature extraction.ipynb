{
 "cells": [
  {
   "cell_type": "code",
   "execution_count": 14,
   "id": "9c08a3b1",
   "metadata": {},
   "outputs": [],
   "source": [
    "\n",
    "from sklearn.neighbors import KNeighborsClassifier\n",
    "from sklearn.metrics import accuracy_score\n",
    "import numpy as np"
   ]
  },
  {
   "cell_type": "code",
   "execution_count": 15,
   "id": "723a1ea8",
   "metadata": {},
   "outputs": [],
   "source": [
    "def get_centroids(image, num_blocks):\n",
    "    # get image dimensions\n",
    "    width, height = image.shape\n",
    "\n",
    "   \n",
    "    centroids = []\n",
    "\n",
    "    \n",
    "    block_width = width // int(np.sqrt(num_blocks))\n",
    "    block_height = height // int(np.sqrt(num_blocks))\n",
    "\n",
    "    \n",
    "    for i in range(int(np.sqrt(num_blocks))):\n",
    "        for j in range(int(np.sqrt(num_blocks))):\n",
    "            \n",
    "            row_centroid = 0\n",
    "            col_centroid = 0\n",
    "\n",
    "            \n",
    "            for x in range(block_width * i, block_width * (i + 1)):\n",
    "                for y in range(block_height * j, block_height * (j + 1)):\n",
    "                    \n",
    "                    pixel = image[x, y]\n",
    "\n",
    "                    \n",
    "                    row_centroid += y * pixel\n",
    "                    col_centroid += x * pixel\n",
    "\n",
    "            \n",
    "            total_sum = np.sum(image[block_width * i:block_width * (i + 1), block_height * j:block_height * (j + 1)])\n",
    "\n",
    "            \n",
    "            if total_sum > 0:\n",
    "                row_centroid /= total_sum\n",
    "                col_centroid /= total_sum\n",
    "\n",
    "            centroids.append([row_centroid, col_centroid])\n",
    "\n",
    "    return np.array(centroids)\n"
   ]
  },
  {
   "cell_type": "code",
   "execution_count": 16,
   "id": "8fccb718",
   "metadata": {},
   "outputs": [
    {
     "name": "stdout",
     "output_type": "stream",
     "text": [
      "Training data shape: (60000, 28, 28)\n",
      "Training labels shape: (60000,)\n",
      "Test data shape: (10000, 28, 28)\n",
      "Test labels shape: (10000,)\n"
     ]
    }
   ],
   "source": [
    "import tensorflow.keras as keras\n",
    "\n",
    "\n",
    "(x_train, y_train), (x_test, y_test) = keras.datasets.mnist.load_data()\n",
    "\n",
    "\n",
    "print('Training data shape:', x_train.shape) \n",
    "print('Training labels shape:', y_train.shape) \n",
    "print('Test data shape:', x_test.shape) \n",
    "print('Test labels shape:', y_test.shape) \n"
   ]
  },
  {
   "cell_type": "code",
   "execution_count": 27,
   "id": "4490727f",
   "metadata": {},
   "outputs": [],
   "source": [
    "features_train=[get_centroids(x,9) for x in x_train ]\n",
    "features_train=np.array(features_train)"
   ]
  },
  {
   "cell_type": "code",
   "execution_count": 28,
   "id": "81c720a0",
   "metadata": {},
   "outputs": [],
   "source": [
    "features_test=[get_centroids(x,9) for x in x_test ]\n",
    "features_test=np.array(features_test)"
   ]
  },
  {
   "cell_type": "code",
   "execution_count": 29,
   "id": "9485c28f",
   "metadata": {},
   "outputs": [],
   "source": [
    "flattened_features_train = features_train.reshape(features_train.shape[0], -1)"
   ]
  },
  {
   "cell_type": "code",
   "execution_count": 30,
   "id": "88bee5dc",
   "metadata": {},
   "outputs": [],
   "source": [
    "flattened_features_test = features_test.reshape(features_test.shape[0], -1)"
   ]
  },
  {
   "cell_type": "code",
   "execution_count": 31,
   "id": "f49b11be",
   "metadata": {},
   "outputs": [
    {
     "data": {
      "text/plain": [
       "KNeighborsClassifier()"
      ]
     },
     "execution_count": 31,
     "metadata": {},
     "output_type": "execute_result"
    }
   ],
   "source": [
    "knn = KNeighborsClassifier()\n",
    "knn.fit(flattened_features_train,y_train)\n"
   ]
  },
  {
   "cell_type": "code",
   "execution_count": 32,
   "id": "3045a4c2",
   "metadata": {},
   "outputs": [
    {
     "data": {
      "text/plain": [
       "0.9115"
      ]
     },
     "execution_count": 32,
     "metadata": {},
     "output_type": "execute_result"
    }
   ],
   "source": [
    "y_pred = knn.predict(flattened_features_test)\n",
    "accuracy = accuracy_score(y_test, y_pred)\n",
    "accuracy"
   ]
  },
  {
   "cell_type": "code",
   "execution_count": null,
   "id": "f4cece87",
   "metadata": {},
   "outputs": [],
   "source": []
  }
 ],
 "metadata": {
  "kernelspec": {
   "display_name": "Python 3 (ipykernel)",
   "language": "python",
   "name": "python3"
  },
  "language_info": {
   "codemirror_mode": {
    "name": "ipython",
    "version": 3
   },
   "file_extension": ".py",
   "mimetype": "text/x-python",
   "name": "python",
   "nbconvert_exporter": "python",
   "pygments_lexer": "ipython3",
   "version": "3.9.12"
  }
 },
 "nbformat": 4,
 "nbformat_minor": 5
}
